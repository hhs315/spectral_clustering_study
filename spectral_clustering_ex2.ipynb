{
 "cells": [
  {
   "cell_type": "code",
   "execution_count": 1,
   "metadata": {},
   "outputs": [
    {
     "name": "stderr",
     "output_type": "stream",
     "text": [
      "/home/hhs/anaconda3/lib/python3.7/site-packages/tensorflow/python/framework/dtypes.py:526: FutureWarning: Passing (type, 1) or '1type' as a synonym of type is deprecated; in a future version of numpy, it will be understood as (type, (1,)) / '(1,)type'.\n",
      "  _np_qint8 = np.dtype([(\"qint8\", np.int8, 1)])\n",
      "/home/hhs/anaconda3/lib/python3.7/site-packages/tensorflow/python/framework/dtypes.py:527: FutureWarning: Passing (type, 1) or '1type' as a synonym of type is deprecated; in a future version of numpy, it will be understood as (type, (1,)) / '(1,)type'.\n",
      "  _np_quint8 = np.dtype([(\"quint8\", np.uint8, 1)])\n",
      "/home/hhs/anaconda3/lib/python3.7/site-packages/tensorflow/python/framework/dtypes.py:528: FutureWarning: Passing (type, 1) or '1type' as a synonym of type is deprecated; in a future version of numpy, it will be understood as (type, (1,)) / '(1,)type'.\n",
      "  _np_qint16 = np.dtype([(\"qint16\", np.int16, 1)])\n",
      "/home/hhs/anaconda3/lib/python3.7/site-packages/tensorflow/python/framework/dtypes.py:529: FutureWarning: Passing (type, 1) or '1type' as a synonym of type is deprecated; in a future version of numpy, it will be understood as (type, (1,)) / '(1,)type'.\n",
      "  _np_quint16 = np.dtype([(\"quint16\", np.uint16, 1)])\n",
      "/home/hhs/anaconda3/lib/python3.7/site-packages/tensorflow/python/framework/dtypes.py:530: FutureWarning: Passing (type, 1) or '1type' as a synonym of type is deprecated; in a future version of numpy, it will be understood as (type, (1,)) / '(1,)type'.\n",
      "  _np_qint32 = np.dtype([(\"qint32\", np.int32, 1)])\n",
      "/home/hhs/anaconda3/lib/python3.7/site-packages/tensorflow/python/framework/dtypes.py:535: FutureWarning: Passing (type, 1) or '1type' as a synonym of type is deprecated; in a future version of numpy, it will be understood as (type, (1,)) / '(1,)type'.\n",
      "  np_resource = np.dtype([(\"resource\", np.ubyte, 1)])\n"
     ]
    }
   ],
   "source": [
    "from sklearn.datasets import make_circles\n",
    "from sklearn.neighbors import kneighbors_graph\n",
    "import numpy as np\n",
    "import matplotlib.pyplot as plt\n",
    "import tensorflow as tf\n",
    "from sklearn.cluster import KMeans"
   ]
  },
  {
   "cell_type": "code",
   "execution_count": 2,
   "metadata": {},
   "outputs": [],
   "source": [
    "X, labels = make_circles(n_samples = 500, noise=0.1, factor = .2)"
   ]
  },
  {
   "cell_type": "code",
   "execution_count": 3,
   "metadata": {},
   "outputs": [],
   "source": [
    "def multiscatter2(np_l,la_l):\n",
    "\n",
    "    #labels = ['base', 'partial', 'stair', 'init_edit']\n",
    "\n",
    "    #data = {la_l[0]:aa, 'partial':bb, 'stair': cc, 'init_edit': dd}\n",
    "    data = {}\n",
    "    len_d = len(np_l)\n",
    "    for j in range(len_d):\n",
    "        data.update({la_l[j]:np_l[j]})\n",
    "\n",
    "    fig, ax = plt.subplots(1,1,figsize=(5,5))\n",
    "\n",
    "    colors_o = ['blue', 'orange','red', 'green']\n",
    "    colors = colors_o[:len_d]\n",
    "    \n",
    "    labels = la_l\n",
    "    markers_o = ['o', 'x', 's', '^']\n",
    "    markers = markers_o[:len_d]\n",
    "    sizes_o = [20,40,60, 10]\n",
    "    sizes = sizes_o[:len_d]\n",
    "    widths_o = [0.5, 2,1, 3]\n",
    "    widths = widths_o[:len_d]\n",
    "\n",
    "    for i, label in enumerate(labels):\n",
    "        X = data[label][:,0]\n",
    "        Y = data[label][:,1]\n",
    "        ax.scatter(X,Y, marker = markers[i], color = colors[i],label=label,\n",
    "                       s=sizes[i], edgecolor='k', linewidth=widths[i]) \n",
    "        pass\n",
    "    ax.set_xlabel('x_val')\n",
    "    ax.set_ylabel('y_val')\n",
    "\n",
    "    ax.legend(loc = 'best')\n",
    "    plt.tight_layout()\n",
    "    #plt.savefig(os.path.join(Constant.main_dir, 'chart_1.png'))\n",
    "    plt.show()"
   ]
  },
  {
   "cell_type": "code",
   "execution_count": 4,
   "metadata": {},
   "outputs": [],
   "source": [
    "lenx = len(X)\n",
    "sim = np.zeros([lenx, lenx])\n",
    "sig = 0.2\n",
    "for i in range(lenx):\n",
    "    for j in range(lenx):\n",
    "        v1 = X[i]\n",
    "        v2 = X[j]\n",
    "        dist2 = sum((v1-v2)**2)\n",
    "        gauss = np.exp(-dist2/sig)\n",
    "        sim[i,j]=gauss"
   ]
  },
  {
   "cell_type": "code",
   "execution_count": 7,
   "metadata": {},
   "outputs": [],
   "source": [
    "sim2 = np.zeros([lenx,lenx])\n",
    "cut_thres = 0.8\n",
    "for i in range(lenx):\n",
    "    for j in range(lenx):\n",
    "        if sim[i,j]>cut_thres:\n",
    "            sim2[i,j]=1"
   ]
  },
  {
   "cell_type": "code",
   "execution_count": 8,
   "metadata": {},
   "outputs": [],
   "source": [
    "simsum2 = sim2.sum(axis=1)\n",
    "D2 = np.diag(simsum2)\n",
    "L2 = D2-sim2"
   ]
  },
  {
   "cell_type": "code",
   "execution_count": 9,
   "metadata": {},
   "outputs": [],
   "source": [
    "vals, vecs = np.linalg.eig(L2)"
   ]
  },
  {
   "cell_type": "code",
   "execution_count": 10,
   "metadata": {},
   "outputs": [
    {
     "data": {
      "text/plain": [
       "[<matplotlib.lines.Line2D at 0x7effcc992860>]"
      ]
     },
     "execution_count": 10,
     "metadata": {},
     "output_type": "execute_result"
    },
    {
     "data": {
      "image/png": "[encoded data removed]",
      "text/plain": [
       "<Figure size 432x288 with 1 Axes>"
      ]
     },
     "metadata": {
      "needs_background": "light"
     },
     "output_type": "display_data"
    }
   ],
   "source": [
    "plt.plot(sorted(vals))"
   ]
  },
  {
   "cell_type": "code",
   "execution_count": 12,
   "metadata": {},
   "outputs": [
    {
     "data": {
      "text/plain": [
       "[-3.797647203770895e-15,\n",
       " 5.191507166460599e-14,\n",
       " 0.046768180304620564,\n",
       " 0.06924620642994618,\n",
       " 0.18872126926437957,\n",
       " 0.2684687251531276,\n",
       " 0.4933956223027286,\n",
       " 0.540806953910918,\n",
       " 0.8357776007857873,\n",
       " 1.113585768905448]"
      ]
     },
     "execution_count": 12,
     "metadata": {},
     "output_type": "execute_result"
    }
   ],
   "source": [
    "sorted(vals)[:10]"
   ]
  },
  {
   "cell_type": "code",
   "execution_count": 13,
   "metadata": {},
   "outputs": [],
   "source": [
    "sort_ind = np.argsort(vals)"
   ]
  },
  {
   "cell_type": "code",
   "execution_count": 14,
   "metadata": {},
   "outputs": [
    {
     "data": {
      "text/plain": [
       "array([ 25,  26,  27,   3,  64,  95,  94,  82,  93, 103])"
      ]
     },
     "execution_count": 14,
     "metadata": {},
     "output_type": "execute_result"
    }
   ],
   "source": [
    "sort_ind[:10]"
   ]
  },
  {
   "cell_type": "code",
   "execution_count": 18,
   "metadata": {},
   "outputs": [
    {
     "data": {
      "image/png": "[encoded data removed]",
      "text/plain": [
       "<Figure size 360x360 with 1 Axes>"
      ]
     },
     "metadata": {
      "needs_background": "light"
     },
     "output_type": "display_data"
    }
   ],
   "source": [
    "fv = vecs[:,25]\n",
    "clusters = fv>0\n",
    "\n",
    "cl1 = clusters ==True\n",
    "cl2 = clusters ==False\n",
    "\n",
    "class1 = X[cl1,:]\n",
    "class2 = X[cl2,:]\n",
    "\n",
    "nps = [class1, class2]\n",
    "labs = ['1', '0']\n",
    "multiscatter2(nps,labs)"
   ]
  },
  {
   "cell_type": "code",
   "execution_count": null,
   "metadata": {},
   "outputs": [],
   "source": []
  }
 ],
 "metadata": {
  "kernelspec": {
   "display_name": "Python 3",
   "language": "python",
   "name": "python3"
  },
  "language_info": {
   "codemirror_mode": {
    "name": "ipython",
    "version": 3
   },
   "file_extension": ".py",
   "mimetype": "text/x-python",
   "name": "python",
   "nbconvert_exporter": "python",
   "pygments_lexer": "ipython3",
   "version": "3.7.3"
  }
 },
 "nbformat": 4,
 "nbformat_minor": 2
}
